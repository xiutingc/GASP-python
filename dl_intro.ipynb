{
  "nbformat": 4,
  "nbformat_minor": 0,
  "metadata": {
    "colab": {
      "name": "dl_intro.ipynb",
      "provenance": [],
      "collapsed_sections": [
        "OlylxH9QYLFd"
      ],
      "include_colab_link": true
    },
    "kernelspec": {
      "name": "python3",
      "display_name": "Python 3"
    },
    "language_info": {
      "name": "python"
    },
    "accelerator": "GPU"
  },
  "cells": [
    {
      "cell_type": "markdown",
      "metadata": {
        "id": "view-in-github",
        "colab_type": "text"
      },
      "source": [
        "<a href=\"https://colab.research.google.com/github/xiutingc/GASP-python/blob/master/dl_intro.ipynb\" target=\"_parent\"><img src=\"https://colab.research.google.com/assets/colab-badge.svg\" alt=\"Open In Colab\"/></a>"
      ]
    },
    {
      "cell_type": "markdown",
      "metadata": {
        "id": "Jt8IL6_Cdmpw"
      },
      "source": [
        "#**Introduction to Deep Learning**\n",
        "### *Michaela Buchanan - Mark III Systems*"
      ]
    },
    {
      "cell_type": "markdown",
      "metadata": {
        "id": "CpfsmL9Sd3G4"
      },
      "source": [
        "---\n",
        "Imports for all the code below. Please run first before anything else!\n"
      ]
    },
    {
      "cell_type": "code",
      "metadata": {
        "colab": {
          "base_uri": "https://localhost:8080/"
        },
        "id": "YBtll6NYXKEb",
        "outputId": "2b3afcd7-e823-4bba-e682-1a34cb2306b8"
      },
      "source": [
        "import tensorflow as tf\n",
        "print(tf.__version__)\n",
        "\n",
        "import numpy as np\n",
        "import pandas as pd\n",
        "import matplotlib.pyplot as plt\n",
        "\n",
        "from sklearn.preprocessing import OneHotEncoder\n",
        "from skimage import color\n",
        "from skimage import io\n",
        "\n",
        "from keras.layers import Conv2D, Dense, Flatten, MaxPooling2D, Dropout, BatchNormalization\n",
        "from keras.models import Sequential, load_model\n",
        "from tensorflow.keras.optimizers import Adam"
      ],
      "execution_count": null,
      "outputs": [
        {
          "output_type": "stream",
          "name": "stdout",
          "text": [
            "2.8.0\n"
          ]
        }
      ]
    },
    {
      "cell_type": "markdown",
      "metadata": {
        "id": "OlylxH9QYLFd"
      },
      "source": [
        "\n",
        "\n",
        "---\n",
        "### Introduction\n"
      ]
    },
    {
      "cell_type": "markdown",
      "metadata": {
        "id": "6P5E6nafyte5"
      },
      "source": [
        "In this workshop we will be working with the CIFAR-10 dataset which consists of 10 classes of images. Our goal is to create a model that can classify images into these 10 categories. To do this, we will be experimenting with building a deep neural network using Tensorflow Keras. While this neural network will be very basic in comparison to many common algorithms used today, it should serve as a good starting point for learning about how to implement deep learning algorithms in Python. "
      ]
    },
    {
      "cell_type": "markdown",
      "metadata": {
        "id": "GMR1lB8fpHme"
      },
      "source": [
        "---\n",
        "### Data Analysis and Preprocessing"
      ]
    },
    {
      "cell_type": "markdown",
      "metadata": {
        "id": "qTGUkV4fzKHF"
      },
      "source": [
        "The 10 classes in CIFAR are denoted by numbers in our Y variables. The list of classes and their associated numbers can be found below:\n",
        "\n",
        "```\n",
        "0.   airplane\n",
        "1.   automobile\n",
        "2.   bird\n",
        "3.   cat\n",
        "4.   deer\n",
        "5.   dog\n",
        "6.   frog\n",
        "7.   horse\n",
        "8.   ship\n",
        "9.   truck\n",
        "```\n",
        "Knowing the dimensions of our images and the number of entries in our dataset are both important for correctly setting up our neural network. All of our images need to be the same size so we have the same number of neurons in the input layer of our model. This shouldn't be a problem with this dataset as all the images are uniform but it is a caveat you will have to watch out for with your own datasets. Let's start by taking a look at our CIFAR-10 dataset.\n"
      ]
    },
    {
      "cell_type": "code",
      "metadata": {
        "colab": {
          "base_uri": "https://localhost:8080/"
        },
        "id": "PV6UP8cTXWL-",
        "outputId": "e7e9598a-c291-4a9b-c9c9-bcfb0b73f851"
      },
      "source": [
        "# Load in our dataset from Keras\n",
        "cifar10 = tf.keras.datasets.cifar10\n",
        "(x_train, y_train), (x_test, y_test) = cifar10.load_data()\n",
        "\n",
        "# Use matplotlib to show sample image\n",
        "print(y_train[5])\n",
        "plt.imshow(x_train[5])"
      ],
      "execution_count": null,
      "outputs": [
        {
          "output_type": "stream",
          "name": "stdout",
          "text": [
            "Downloading data from https://www.cs.toronto.edu/~kriz/cifar-10-python.tar.gz\n",
            "170500096/170498071 [==============================] - 3s 0us/step\n",
            "170508288/170498071 [==============================] - 3s 0us/step\n",
            "[1]\n"
          ]
        },
        {
          "output_type": "execute_result",
          "data": {
            "text/plain": [
              "<matplotlib.image.AxesImage at 0x7f1cee571b90>"
            ]
          },
          "metadata": {},
          "execution_count": 2
        },
        {
          "output_type": "display_data",
          "data": {
            "image/png": "[encoded data removed]",
            "text/plain": [
              "<Figure size 432x288 with 1 Axes>"
            ]
          },
          "metadata": {
            "needs_background": "light"
          }
        }
      ]
    },
    {
      "cell_type": "markdown",
      "metadata": {
        "id": "AT0uv2RwTk1g"
      },
      "source": [
        "If you look above, we got the number 1 when we printed the y associated with our image we displayed. This makes sense as we are looking at an image of a car, and according to the list above the image should be in the automobile class. The low resolution is nothing to be alarmed about. CIFAR-10 images are purposely low resolution in order to keep the size of the input layer reasonable as this dataset is primarily for people looking to learn how to use DL, not real world model training. Feel free to look at different images in the dataset by replacing the number 5 in these two lines with another number.\n",
        "\n"
      ]
    },
    {
      "cell_type": "markdown",
      "metadata": {
        "id": "jb1x9Ncp0DtC"
      },
      "source": [
        "Now we need to figure out some important information about our dataset. Let's start by checking the dimensions of the images we are using."
      ]
    },
    {
      "cell_type": "code",
      "metadata": {
        "id": "70kU0jXQX3Yn",
        "colab": {
          "base_uri": "https://localhost:8080/"
        },
        "outputId": "9fc4fdd5-e2ce-45ab-ec39-44109c98f818"
      },
      "source": [
        "print(\"single image shape: \",x_train[5].shape)\n",
        "print(\"training dataset shape: \", x_train.shape)"
      ],
      "execution_count": null,
      "outputs": [
        {
          "output_type": "stream",
          "name": "stdout",
          "text": [
            "single image shape:  (32, 32, 3)\n",
            "training dataset shape:  (50000, 32, 32, 3)\n"
          ]
        }
      ]
    },
    {
      "cell_type": "markdown",
      "metadata": {
        "id": "ww0kbBNEWlJr"
      },
      "source": [
        "Our model isn't going to know what to do with integer output for our Y like we have now so we need to convert it to one-hot encoding. One-hot encoding creates an array that has the lenght of the number of options we have. Then we set 1 to the corresponding category of the entry we are dealing with and the rest to 0. This will probably make more sense when you take a look at the example below."
      ]
    },
    {
      "cell_type": "code",
      "metadata": {
        "colab": {
          "base_uri": "https://localhost:8080/"
        },
        "id": "4cxAIgNiZIUY",
        "outputId": "3f0f1bfb-bf6a-4468-a482-7244235ad84c"
      },
      "source": [
        "# creates and formate one-hot encoder\n",
        "one_hot_encoder = OneHotEncoder(sparse=False)\n",
        "one_hot_encoder.fit(y_train)\n",
        "\n",
        "# actually one-hot encodes our data\n",
        "y_train = one_hot_encoder.transform(y_train)\n",
        "y_test = one_hot_encoder.transform(y_test)\n",
        "\n",
        "print(y_train[5])"
      ],
      "execution_count": null,
      "outputs": [
        {
          "output_type": "stream",
          "name": "stdout",
          "text": [
            "[0. 1. 0. 0. 0. 0. 0. 0. 0. 0.]\n"
          ]
        }
      ]
    },
    {
      "cell_type": "markdown",
      "metadata": {
        "id": "8xiHYGteZubb"
      },
      "source": [
        "Here you can see for our 5th training sample, the 1 spot (remember we start counting at 0) has a 1 in it while the rest of the spots in the array are 0. This gives us the same information the Y did previously but in a format that will be much easier for the model to associate with the 10 output neurons we will be creating."
      ]
    },
    {
      "cell_type": "markdown",
      "metadata": {
        "id": "Qon-hkTDi8as"
      },
      "source": [
        "Our x entries are going to consist of three numbers ranging from 0-255 representing the RGB of that pixel. Since we know this, we can easily normalize our data so that it's easier to train with."
      ]
    },
    {
      "cell_type": "code",
      "metadata": {
        "id": "Bsa0Rt_ljIuu"
      },
      "source": [
        "x_train = x_train.astype('float32')\n",
        "x_test = x_test.astype('float32')\n",
        "x_train = x_train / 255\n",
        "x_test = x_test / 255"
      ],
      "execution_count": null,
      "outputs": []
    },
    {
      "cell_type": "markdown",
      "metadata": {
        "id": "tgVhb_M7fO4O"
      },
      "source": [
        "---\n",
        "### Creating our Model\n",
        "\n"
      ]
    },
    {
      "cell_type": "markdown",
      "metadata": {
        "id": "CG0wzh353Hgs"
      },
      "source": [
        "Now it's time to start creating our neural network. Luckily, Keras makes this pretty easy, especially when you are using what's called a Sequencial model which is what we will be doing today. With a Sequential Keras model, all you need to do is initialize the model and then add layers to it using premade functions in Keras as you will see in a minute. Sequential models are great for situations where you have only one input and one output vector and you are not planning on doing any layer sharing and are sticking to a linear model topology. To start with, let's define some of the variables we need. First we have our batch size which designates how many training samples we go through before we backpropogate changes through the model. Then we have epochs which is how many times we go through the whole dataset. Feel free to change these variables to see what happens. You can do as many or as few epochs but batch_size must be 1 < batch_size < 50,000 since we have 50,000 entries in x_train. num_classes just defines how many categories we have that we are classifying into in our output layer."
      ]
    },
    {
      "cell_type": "code",
      "metadata": {
        "id": "gXHgt4VZh8NM"
      },
      "source": [
        "# feel free to experiment with these\n",
        "batch = 32\n",
        "num_epochs = 20\n",
        "\n",
        "num_classes = 10"
      ],
      "execution_count": null,
      "outputs": []
    },
    {
      "cell_type": "markdown",
      "metadata": {
        "id": "fAjYAEm5iBoe"
      },
      "source": [
        "Let's create our model. "
      ]
    },
    {
      "cell_type": "code",
      "metadata": {
        "colab": {
          "base_uri": "https://localhost:8080/"
        },
        "id": "bS9KKKsnrDcr",
        "outputId": "70cc7065-1273-40c8-8011-a21a5fa9f992"
      },
      "source": [
        "# initialize model\n",
        "model = Sequential()\n",
        "\n",
        "model.add(Conv2D(input_shape=x_train[0,:,:,:].shape, filters=96, kernel_size=(3,3), activation='relu'))\n",
        "model.add(Conv2D(filters=96, kernel_size=(3,3), strides=2, activation='relu'))\n",
        "model.add(Conv2D(filters=192, kernel_size=(3,3), activation='relu'))\n",
        "model.add(Conv2D(filters=192, kernel_size=(3,3), strides=2, activation='relu'))\n",
        "\n",
        "model.add(Flatten())\n",
        "model.add(BatchNormalization())\n",
        "model.add(Dense(256, activation='relu'))\n",
        "model.add(Dense(num_classes, activation=\"softmax\"))\n",
        "# model.compile(loss='categorical_crossentropy', optimizer='adam', metrics=['accuracy'])\n",
        "\n",
        "model.summary()"
      ],
      "execution_count": null,
      "outputs": [
        {
          "output_type": "stream",
          "name": "stdout",
          "text": [
            "Model: \"sequential\"\n",
            "_________________________________________________________________\n",
            " Layer (type)                Output Shape              Param #   \n",
            "=================================================================\n",
            " conv2d (Conv2D)             (None, 30, 30, 96)        2688      \n",
            "                                                                 \n",
            " conv2d_1 (Conv2D)           (None, 14, 14, 96)        83040     \n",
            "                                                                 \n",
            " conv2d_2 (Conv2D)           (None, 12, 12, 192)       166080    \n",
            "                                                                 \n",
            " conv2d_3 (Conv2D)           (None, 5, 5, 192)         331968    \n",
            "                                                                 \n",
            " flatten (Flatten)           (None, 4800)              0         \n",
            "                                                                 \n",
            " batch_normalization (BatchN  (None, 4800)             19200     \n",
            " ormalization)                                                   \n",
            "                                                                 \n",
            " dense (Dense)               (None, 256)               1229056   \n",
            "                                                                 \n",
            " dense_1 (Dense)             (None, 10)                2570      \n",
            "                                                                 \n",
            "=================================================================\n",
            "Total params: 1,834,602\n",
            "Trainable params: 1,825,002\n",
            "Non-trainable params: 9,600\n",
            "_________________________________________________________________\n"
          ]
        }
      ]
    },
    {
      "cell_type": "markdown",
      "metadata": {
        "id": "gYTkeuwS_Fng"
      },
      "source": [
        "The last line prints a nice summary of the model we have created and the output shapes from each layer. If you are having trouble getting your data to flow through your layers, this model summary can be a great tool for debugging your model. Now that we have defined our model structure, we can use Keras to compile it."
      ]
    },
    {
      "cell_type": "code",
      "metadata": {
        "id": "dCW3YDAn_EtQ"
      },
      "source": [
        "model.compile(\n",
        "    loss='categorical_crossentropy', \n",
        "    optimizer=Adam(learning_rate=0.0001), \n",
        "    metrics=['acc'])"
      ],
      "execution_count": null,
      "outputs": []
    },
    {
      "cell_type": "markdown",
      "metadata": {
        "id": "MzchUyZcCRqd"
      },
      "source": [
        "And finally we can start training our model. To do this, all we have to do is run the fit function on our model as shown below.\n",
        "\n"
      ]
    },
    {
      "cell_type": "code",
      "metadata": {
        "colab": {
          "base_uri": "https://localhost:8080/"
        },
        "id": "WQThjEfUCm6-",
        "outputId": "e337c2c7-4d42-42b4-89c8-18acfda1eaed"
      },
      "source": [
        "history = model.fit(\n",
        "    x_train, \n",
        "    y_train, \n",
        "    epochs=num_epochs, \n",
        "    batch_size=batch,\n",
        "    validation_data=(x_test, y_test))"
      ],
      "execution_count": null,
      "outputs": [
        {
          "output_type": "stream",
          "name": "stdout",
          "text": [
            "Epoch 1/20\n",
            "1563/1563 [==============================] - 42s 18ms/step - loss: 1.4371 - acc: 0.4834 - val_loss: 1.1866 - val_acc: 0.5762\n",
            "Epoch 2/20\n",
            "1563/1563 [==============================] - 29s 18ms/step - loss: 1.0341 - acc: 0.6375 - val_loss: 1.1564 - val_acc: 0.6152\n",
            "Epoch 3/20\n",
            "1563/1563 [==============================] - 28s 18ms/step - loss: 0.8192 - acc: 0.7154 - val_loss: 0.8991 - val_acc: 0.6887\n",
            "Epoch 4/20\n",
            "1563/1563 [==============================] - 29s 19ms/step - loss: 0.6595 - acc: 0.7713 - val_loss: 0.8920 - val_acc: 0.6991\n",
            "Epoch 5/20\n",
            "1563/1563 [==============================] - 29s 18ms/step - loss: 0.5353 - acc: 0.8169 - val_loss: 0.8711 - val_acc: 0.7148\n",
            "Epoch 6/20\n",
            "1563/1563 [==============================] - 28s 18ms/step - loss: 0.4209 - acc: 0.8596 - val_loss: 0.8811 - val_acc: 0.7186\n",
            "Epoch 7/20\n",
            "1563/1563 [==============================] - 28s 18ms/step - loss: 0.3204 - acc: 0.8952 - val_loss: 0.8552 - val_acc: 0.7287\n",
            "Epoch 8/20\n",
            "1563/1563 [==============================] - 29s 18ms/step - loss: 0.2420 - acc: 0.9246 - val_loss: 0.9249 - val_acc: 0.7250\n",
            "Epoch 9/20\n",
            "1563/1563 [==============================] - 27s 17ms/step - loss: 0.1783 - acc: 0.9484 - val_loss: 1.0702 - val_acc: 0.7073\n",
            "Epoch 10/20\n",
            "1563/1563 [==============================] - 28s 18ms/step - loss: 0.1340 - acc: 0.9616 - val_loss: 1.0414 - val_acc: 0.7155\n",
            "Epoch 11/20\n",
            "1563/1563 [==============================] - 28s 18ms/step - loss: 0.1061 - acc: 0.9708 - val_loss: 1.0602 - val_acc: 0.7301\n",
            "Epoch 12/20\n",
            "1563/1563 [==============================] - 28s 18ms/step - loss: 0.0833 - acc: 0.9771 - val_loss: 1.1204 - val_acc: 0.7271\n",
            "Epoch 13/20\n",
            "1563/1563 [==============================] - 27s 18ms/step - loss: 0.0670 - acc: 0.9819 - val_loss: 1.1667 - val_acc: 0.7248\n",
            "Epoch 14/20\n",
            "1563/1563 [==============================] - 27s 18ms/step - loss: 0.0604 - acc: 0.9840 - val_loss: 1.1437 - val_acc: 0.7330\n",
            "Epoch 15/20\n",
            "1563/1563 [==============================] - 27s 17ms/step - loss: 0.0516 - acc: 0.9863 - val_loss: 1.2830 - val_acc: 0.7181\n",
            "Epoch 16/20\n",
            "1563/1563 [==============================] - 27s 18ms/step - loss: 0.0472 - acc: 0.9866 - val_loss: 1.2266 - val_acc: 0.7280\n",
            "Epoch 17/20\n",
            "1563/1563 [==============================] - 27s 18ms/step - loss: 0.0449 - acc: 0.9867 - val_loss: 1.3407 - val_acc: 0.7272\n",
            "Epoch 18/20\n",
            "1563/1563 [==============================] - 27s 18ms/step - loss: 0.0377 - acc: 0.9898 - val_loss: 1.3656 - val_acc: 0.7143\n",
            "Epoch 19/20\n",
            "1563/1563 [==============================] - 27s 18ms/step - loss: 0.0377 - acc: 0.9890 - val_loss: 1.4042 - val_acc: 0.7232\n",
            "Epoch 20/20\n",
            "1563/1563 [==============================] - 27s 18ms/step - loss: 0.0374 - acc: 0.9887 - val_loss: 1.3404 - val_acc: 0.7308\n"
          ]
        }
      ]
    },
    {
      "cell_type": "code",
      "metadata": {
        "id": "oFnqStkTYSAp",
        "colab": {
          "base_uri": "https://localhost:8080/",
          "height": 573
        },
        "outputId": "cd13dc0a-efe4-4f6d-98a7-d1bfa23f104c"
      },
      "source": [
        "#  Ploting the accuracy graph\n",
        "plt.plot(history.history['acc'])\n",
        "plt.plot(history.history['val_acc'])\n",
        "plt.title('model accuracy')\n",
        "plt.ylabel('accuracy')\n",
        "plt.xlabel('epoch')\n",
        "plt.legend(['train', 'val'], loc='best')\n",
        "plt.show()\n",
        "# Ploting the loss graph\n",
        "plt.plot(history.history['loss'])\n",
        "plt.plot(history.history['val_loss'])\n",
        "plt.title('model loss')\n",
        "plt.ylabel('loss')\n",
        "plt.xlabel('epoch')\n",
        "plt.legend(['train', 'val'], loc='best')\n",
        "plt.show()"
      ],
      "execution_count": null,
      "outputs": [
        {
          "output_type": "display_data",
          "data": {
            "image/png": "[encoded data removed]",
            "text/plain": [
              "<Figure size 432x288 with 1 Axes>"
            ]
          },
          "metadata": {
            "needs_background": "light"
          }
        },
        {
          "output_type": "display_data",
          "data": {
            "image/png": "[encoded data removed]",
            "text/plain": [
              "<Figure size 432x288 with 1 Axes>"
            ]
          },
          "metadata": {
            "needs_background": "light"
          }
        }
      ]
    },
    {
      "cell_type": "markdown",
      "metadata": {
        "id": "Jxi5ux2xt_Xy"
      },
      "source": [
        "As you can see, our accuracy and loss look great for our training data. However, the same cannot be said for our validation data. This is usually a red flag that our model is overfitting to our training data. In the next section, we are going to make some changes to this model to see if we can get the ovefitting under control."
      ]
    },
    {
      "cell_type": "markdown",
      "metadata": {
        "id": "V87QIOEct5sB"
      },
      "source": [
        "\n",
        "\n",
        "---\n",
        "\n",
        "###Improving our Model"
      ]
    },
    {
      "cell_type": "markdown",
      "metadata": {
        "id": "5CQHgQuRvgjF"
      },
      "source": [
        "Below is a very similar model to the one we created earlier. The only difference is the addition of 2 dropout layers. Dropout layers will ignore a random selection of neurons during training which can help with overfitting."
      ]
    },
    {
      "cell_type": "code",
      "metadata": {
        "id": "0c1v7IaRgE9-",
        "colab": {
          "base_uri": "https://localhost:8080/"
        },
        "outputId": "0918bc54-8a2f-4abd-809c-9fcaee45413a"
      },
      "source": [
        "model2 = Sequential()\n",
        "\n",
        "model2.add(Conv2D(input_shape=x_train[0,:,:,:].shape, filters=96, kernel_size=(3,3), activation='relu'))\n",
        "model2.add(Conv2D(filters=96, kernel_size=(3,3), strides=2, activation='relu'))\n",
        "\n",
        "# added dropout layer\n",
        "model2.add(Dropout(0.2))\n",
        "model2.add(Conv2D(filters=192, kernel_size=(3,3), activation='relu'))\n",
        "model2.add(Conv2D(filters=192, kernel_size=(3,3), strides=2, activation='relu'))\n",
        "\n",
        "# added dropout layer\n",
        "model2.add(Dropout(0.5))\n",
        "model2.add(Flatten())\n",
        "model2.add(BatchNormalization())\n",
        "model2.add(Dense(256, activation='relu'))\n",
        "model2.add(Dense(num_classes, activation=\"softmax\"))\n",
        "model2.compile(loss='categorical_crossentropy', optimizer='adam', metrics=['accuracy'])\n",
        "model2.summary()"
      ],
      "execution_count": null,
      "outputs": [
        {
          "output_type": "stream",
          "name": "stdout",
          "text": [
            "Model: \"sequential_1\"\n",
            "_________________________________________________________________\n",
            " Layer (type)                Output Shape              Param #   \n",
            "=================================================================\n",
            " conv2d_4 (Conv2D)           (None, 30, 30, 96)        2688      \n",
            "                                                                 \n",
            " conv2d_5 (Conv2D)           (None, 14, 14, 96)        83040     \n",
            "                                                                 \n",
            " dropout (Dropout)           (None, 14, 14, 96)        0         \n",
            "                                                                 \n",
            " conv2d_6 (Conv2D)           (None, 12, 12, 192)       166080    \n",
            "                                                                 \n",
            " conv2d_7 (Conv2D)           (None, 5, 5, 192)         331968    \n",
            "                                                                 \n",
            " dropout_1 (Dropout)         (None, 5, 5, 192)         0         \n",
            "                                                                 \n",
            " flatten_1 (Flatten)         (None, 4800)              0         \n",
            "                                                                 \n",
            " batch_normalization_1 (Batc  (None, 4800)             19200     \n",
            " hNormalization)                                                 \n",
            "                                                                 \n",
            " dense_2 (Dense)             (None, 256)               1229056   \n",
            "                                                                 \n",
            " dense_3 (Dense)             (None, 10)                2570      \n",
            "                                                                 \n",
            "=================================================================\n",
            "Total params: 1,834,602\n",
            "Trainable params: 1,825,002\n",
            "Non-trainable params: 9,600\n",
            "_________________________________________________________________\n"
          ]
        }
      ]
    },
    {
      "cell_type": "markdown",
      "metadata": {
        "id": "YEQTRM-7zMYC"
      },
      "source": [
        "Let's try training this model with our dropout layers to see if it helps with our overfitting issue."
      ]
    },
    {
      "cell_type": "code",
      "metadata": {
        "id": "_3bF-VNMzHT1",
        "colab": {
          "base_uri": "https://localhost:8080/"
        },
        "outputId": "0798d8c7-8b5b-4910-febd-8ae24f35c832"
      },
      "source": [
        "history2 = model2.fit(\n",
        "    x_train, \n",
        "    y_train, \n",
        "    epochs=num_epochs, \n",
        "    batch_size=batch,\n",
        "    validation_data=(x_test, y_test))"
      ],
      "execution_count": null,
      "outputs": [
        {
          "output_type": "stream",
          "name": "stdout",
          "text": [
            "Epoch 1/20\n",
            "1563/1563 [==============================] - 30s 19ms/step - loss: 1.6593 - accuracy: 0.3956 - val_loss: 1.5160 - val_accuracy: 0.4528\n",
            "Epoch 2/20\n",
            "1563/1563 [==============================] - 28s 18ms/step - loss: 1.3688 - accuracy: 0.5037 - val_loss: 1.2007 - val_accuracy: 0.5719\n",
            "Epoch 3/20\n",
            "1563/1563 [==============================] - 29s 18ms/step - loss: 1.2155 - accuracy: 0.5643 - val_loss: 1.1973 - val_accuracy: 0.5787\n",
            "Epoch 4/20\n",
            "1563/1563 [==============================] - 28s 18ms/step - loss: 1.1055 - accuracy: 0.6056 - val_loss: 1.0445 - val_accuracy: 0.6372\n",
            "Epoch 5/20\n",
            "1563/1563 [==============================] - 29s 18ms/step - loss: 1.0372 - accuracy: 0.6343 - val_loss: 0.9785 - val_accuracy: 0.6585\n",
            "Epoch 6/20\n",
            "1563/1563 [==============================] - 28s 18ms/step - loss: 0.9827 - accuracy: 0.6527 - val_loss: 0.9198 - val_accuracy: 0.6772\n",
            "Epoch 7/20\n",
            "1563/1563 [==============================] - 28s 18ms/step - loss: 0.9393 - accuracy: 0.6681 - val_loss: 0.9484 - val_accuracy: 0.6742\n",
            "Epoch 8/20\n",
            "1563/1563 [==============================] - 28s 18ms/step - loss: 0.8915 - accuracy: 0.6884 - val_loss: 0.8624 - val_accuracy: 0.7049\n",
            "Epoch 9/20\n",
            "1563/1563 [==============================] - 29s 18ms/step - loss: 0.8616 - accuracy: 0.6971 - val_loss: 0.9627 - val_accuracy: 0.6774\n",
            "Epoch 10/20\n",
            "1563/1563 [==============================] - 28s 18ms/step - loss: 0.8297 - accuracy: 0.7069 - val_loss: 0.8831 - val_accuracy: 0.7000\n",
            "Epoch 11/20\n",
            "1563/1563 [==============================] - 28s 18ms/step - loss: 0.8040 - accuracy: 0.7180 - val_loss: 0.8509 - val_accuracy: 0.7094\n",
            "Epoch 12/20\n",
            "1563/1563 [==============================] - 28s 18ms/step - loss: 0.7864 - accuracy: 0.7259 - val_loss: 0.8230 - val_accuracy: 0.7207\n",
            "Epoch 13/20\n",
            "1563/1563 [==============================] - 29s 18ms/step - loss: 0.7763 - accuracy: 0.7272 - val_loss: 0.9628 - val_accuracy: 0.6786\n",
            "Epoch 14/20\n",
            "1563/1563 [==============================] - 29s 19ms/step - loss: 0.7480 - accuracy: 0.7375 - val_loss: 0.7699 - val_accuracy: 0.7312\n",
            "Epoch 15/20\n",
            "1563/1563 [==============================] - 28s 18ms/step - loss: 0.7389 - accuracy: 0.7403 - val_loss: 0.8773 - val_accuracy: 0.6975\n",
            "Epoch 16/20\n",
            "1563/1563 [==============================] - 28s 18ms/step - loss: 0.7047 - accuracy: 0.7542 - val_loss: 0.7682 - val_accuracy: 0.7396\n",
            "Epoch 17/20\n",
            "1563/1563 [==============================] - 29s 19ms/step - loss: 0.7137 - accuracy: 0.7496 - val_loss: 0.7387 - val_accuracy: 0.7486\n",
            "Epoch 18/20\n",
            "1563/1563 [==============================] - 28s 18ms/step - loss: 0.6855 - accuracy: 0.7585 - val_loss: 0.8060 - val_accuracy: 0.7330\n",
            "Epoch 19/20\n",
            "1563/1563 [==============================] - 28s 18ms/step - loss: 0.6805 - accuracy: 0.7623 - val_loss: 0.9536 - val_accuracy: 0.6872\n",
            "Epoch 20/20\n",
            "1563/1563 [==============================] - 29s 19ms/step - loss: 0.6721 - accuracy: 0.7639 - val_loss: 0.7550 - val_accuracy: 0.7419\n"
          ]
        }
      ]
    },
    {
      "cell_type": "code",
      "metadata": {
        "id": "UTDcTFXEzH2T",
        "colab": {
          "base_uri": "https://localhost:8080/"
        },
        "outputId": "b0319d5a-7ca8-4854-8abf-b57e0554c95d"
      },
      "source": [
        "#  Ploting the accuracy graph\n",
        "plt.plot(history2.history['accuracy'])\n",
        "plt.plot(history2.history['val_accuracy'])\n",
        "plt.title('model accuracy')\n",
        "plt.ylabel('accuracy')\n",
        "plt.xlabel('epoch')\n",
        "plt.legend(['train', 'val'], loc='best')\n",
        "plt.show()\n",
        "# Ploting the loss graph\n",
        "plt.plot(history2.history['loss'])\n",
        "plt.plot(history2.history['val_loss'])\n",
        "plt.title('model loss')\n",
        "plt.ylabel('loss')\n",
        "plt.xlabel('epoch')\n",
        "plt.legend(['train', 'val'], loc='best')\n",
        "plt.show()"
      ],
      "execution_count": null,
      "outputs": [
        {
          "output_type": "display_data",
          "data": {
            "image/png": "[encoded data removed]",
            "text/plain": [
              "<Figure size 432x288 with 1 Axes>"
            ]
          },
          "metadata": {
            "needs_background": "light"
          }
        },
        {
          "output_type": "display_data",
          "data": {
            "image/png": "[encoded data removed]",
            "text/plain": [
              "<Figure size 432x288 with 1 Axes>"
            ]
          },
          "metadata": {
            "needs_background": "light"
          }
        }
      ]
    },
    {
      "cell_type": "markdown",
      "metadata": {
        "id": "CZolzkLezSYC"
      },
      "source": [
        "As you can see, the dropout layers were very helpful with curbing the model's overfitting tendencies. The training and validation accuracies were much more in line with each other. We did take a bit of a hit in training accuracy but the accuracy we achieved in our earlier model wasn't very meaningful anyway since it didn't generalize to data outside of the training set."
      ]
    }
  ]
}